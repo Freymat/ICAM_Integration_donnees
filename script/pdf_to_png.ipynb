{
 "cells": [
  {
   "cell_type": "code",
   "execution_count": null,
   "metadata": {},
   "outputs": [],
   "source": [
    "! pip install PyMuPDF Pillow\n"
   ]
  },
  {
   "cell_type": "code",
   "execution_count": 15,
   "metadata": {},
   "outputs": [],
   "source": [
    "import fitz  # PyMuPDF\n",
    "from PIL import Image\n",
    "import os\n",
    "\n",
    "def pdf_to_png(pdf_path, output_folder):\n",
    "    # Ouvrir le document PDF\n",
    "    pdf_document = fitz.open(pdf_path)\n",
    "\n",
    "    # Vérifier que le dossier de sortie existe, sinon le créer\n",
    "    if not os.path.exists(output_folder):\n",
    "        os.makedirs(output_folder)\n",
    "\n",
    "    # Parcourir chaque page du document PDF\n",
    "    for page_num in range(len(pdf_document)):\n",
    "        # Charger la page\n",
    "        page = pdf_document.load_page(page_num)\n",
    "        \n",
    "        # Rendre la page en format pixmap\n",
    "        pix = page.get_pixmap()\n",
    "\n",
    "        # Définir le chemin du fichier de sortie\n",
    "        output_path = os.path.join(output_folder, f\"page_{page_num + 1}.png\")\n",
    "\n",
    "        # Sauvegarder le pixmap en PNG\n",
    "        img = Image.frombytes(\"RGB\", [pix.width, pix.height], pix.samples)\n",
    "        img.save(output_path)\n",
    "\n",
    "        print(f\"Page {page_num + 1} enregistrée en tant que {output_path}\")\n",
    "\n",
    "    # Fermer le document PDF\n",
    "    pdf_document.close()\n",
    "\n",
    "\n"
   ]
  },
  {
   "cell_type": "code",
   "execution_count": 16,
   "metadata": {},
   "outputs": [],
   "source": [
    "pdf_path = '../presentation/Presentation_Int-Proj-elus.pdf'\n",
    "output_folder = '../presentation/images'"
   ]
  },
  {
   "cell_type": "code",
   "execution_count": 18,
   "metadata": {},
   "outputs": [
    {
     "name": "stdout",
     "output_type": "stream",
     "text": [
      "Page 1 enregistrée en tant que ../presentation/images/page_1.png\n",
      "Page 2 enregistrée en tant que ../presentation/images/page_2.png\n",
      "Page 3 enregistrée en tant que ../presentation/images/page_3.png\n",
      "Page 4 enregistrée en tant que ../presentation/images/page_4.png\n",
      "Page 5 enregistrée en tant que ../presentation/images/page_5.png\n",
      "Page 6 enregistrée en tant que ../presentation/images/page_6.png\n",
      "Page 7 enregistrée en tant que ../presentation/images/page_7.png\n",
      "Page 8 enregistrée en tant que ../presentation/images/page_8.png\n",
      "Page 9 enregistrée en tant que ../presentation/images/page_9.png\n",
      "Page 10 enregistrée en tant que ../presentation/images/page_10.png\n",
      "Page 11 enregistrée en tant que ../presentation/images/page_11.png\n",
      "Page 12 enregistrée en tant que ../presentation/images/page_12.png\n",
      "Page 13 enregistrée en tant que ../presentation/images/page_13.png\n",
      "Page 14 enregistrée en tant que ../presentation/images/page_14.png\n",
      "Page 15 enregistrée en tant que ../presentation/images/page_15.png\n",
      "Page 16 enregistrée en tant que ../presentation/images/page_16.png\n",
      "Page 17 enregistrée en tant que ../presentation/images/page_17.png\n",
      "Page 18 enregistrée en tant que ../presentation/images/page_18.png\n",
      "Page 19 enregistrée en tant que ../presentation/images/page_19.png\n",
      "Page 20 enregistrée en tant que ../presentation/images/page_20.png\n",
      "Page 21 enregistrée en tant que ../presentation/images/page_21.png\n",
      "Page 22 enregistrée en tant que ../presentation/images/page_22.png\n",
      "Page 23 enregistrée en tant que ../presentation/images/page_23.png\n",
      "Page 24 enregistrée en tant que ../presentation/images/page_24.png\n",
      "Page 25 enregistrée en tant que ../presentation/images/page_25.png\n",
      "Page 26 enregistrée en tant que ../presentation/images/page_26.png\n",
      "Page 27 enregistrée en tant que ../presentation/images/page_27.png\n",
      "Page 28 enregistrée en tant que ../presentation/images/page_28.png\n",
      "Page 29 enregistrée en tant que ../presentation/images/page_29.png\n",
      "Page 30 enregistrée en tant que ../presentation/images/page_30.png\n",
      "Page 31 enregistrée en tant que ../presentation/images/page_31.png\n",
      "Page 32 enregistrée en tant que ../presentation/images/page_32.png\n"
     ]
    }
   ],
   "source": [
    "pdf_to_png(pdf_path, output_folder)"
   ]
  }
 ],
 "metadata": {
  "kernelspec": {
   "display_name": "acdc",
   "language": "python",
   "name": "python3"
  },
  "language_info": {
   "codemirror_mode": {
    "name": "ipython",
    "version": 3
   },
   "file_extension": ".py",
   "mimetype": "text/x-python",
   "name": "python",
   "nbconvert_exporter": "python",
   "pygments_lexer": "ipython3",
   "version": "3.11.5"
  }
 },
 "nbformat": 4,
 "nbformat_minor": 2
}
